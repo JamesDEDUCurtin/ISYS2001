{
  "nbformat": 4,
  "nbformat_minor": 0,
  "metadata": {
    "colab": {
      "provenance": [],
      "authorship_tag": "ABX9TyN9nPphyE5vZedrGo7Q5rjj",
      "include_colab_link": true
    },
    "kernelspec": {
      "name": "python3",
      "display_name": "Python 3"
    },
    "language_info": {
      "name": "python"
    }
  },
  "cells": [
    {
      "cell_type": "markdown",
      "metadata": {
        "id": "view-in-github",
        "colab_type": "text"
      },
      "source": [
        "<a href=\"https://colab.research.google.com/github/JamesDEDUCurtin/ISYS2001/blob/main/week_4_isys2001.ipynb\" target=\"_parent\"><img src=\"https://colab.research.google.com/assets/colab-badge.svg\" alt=\"Open In Colab\"/></a>"
      ]
    },
    {
      "cell_type": "markdown",
      "source": [
        "Write pseudocode for a program that suggests what to wear based on the temperature. If it’s above 25°C, suggest light clothing. If it’s between 15°C and 25°C, suggest a light jacket. If it’s below 15°C, suggest warm clothing."
      ],
      "metadata": {
        "id": "DDhlAiZJ0Ns4"
      }
    },
    {
      "cell_type": "code",
      "execution_count": null,
      "metadata": {
        "colab": {
          "base_uri": "https://localhost:8080/"
        },
        "id": "M0OyVH-u0CeD",
        "outputId": "c2d368a5-b13d-4927-fb62-77cc37824626"
      },
      "outputs": [
        {
          "output_type": "stream",
          "name": "stdout",
          "text": [
            "wear warm clothing\n"
          ]
        }
      ],
      "source": [
        "import random\n",
        "\n",
        "Temperature = 14\n",
        "if(Temperature > 25):\n",
        "  print('wear light clothing')\n",
        "elif(Temperature >= 15):\n",
        "  print('wear a light jacket')\n",
        "else:\n",
        "  print('wear warm clothing')"
      ]
    }
  ]
}