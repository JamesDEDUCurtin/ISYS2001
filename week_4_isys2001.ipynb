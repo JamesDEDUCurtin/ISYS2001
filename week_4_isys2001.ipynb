{
  "nbformat": 4,
  "nbformat_minor": 0,
  "metadata": {
    "colab": {
      "provenance": [],
      "authorship_tag": "ABX9TyOvRy42043P7NKo35FUsAwB",
      "include_colab_link": true
    },
    "kernelspec": {
      "name": "python3",
      "display_name": "Python 3"
    },
    "language_info": {
      "name": "python"
    }
  },
  "cells": [
    {
      "cell_type": "markdown",
      "metadata": {
        "id": "view-in-github",
        "colab_type": "text"
      },
      "source": [
        "<a href=\"https://colab.research.google.com/github/JamesDEDUCurtin/ISYS2001/blob/main/week_4_isys2001.ipynb\" target=\"_parent\"><img src=\"https://colab.research.google.com/assets/colab-badge.svg\" alt=\"Open In Colab\"/></a>"
      ]
    },
    {
      "cell_type": "markdown",
      "source": [
        "Write pseudocode for a program that suggests what to wear based on the temperature. If it’s above 25°C, suggest light clothing. If it’s between 15°C and 25°C, suggest a light jacket. If it’s below 15°C, suggest warm clothing."
      ],
      "metadata": {
        "id": "DDhlAiZJ0Ns4"
      }
    },
    {
      "cell_type": "code",
      "execution_count": 12,
      "metadata": {
        "colab": {
          "base_uri": "https://localhost:8080/"
        },
        "id": "M0OyVH-u0CeD",
        "outputId": "239b4d81-0416-468a-fbd6-c1ac6c081f33"
      },
      "outputs": [
        {
          "output_type": "stream",
          "name": "stdout",
          "text": [
            "wear light clothing\n"
          ]
        }
      ],
      "source": [
        "import random\n",
        "\n",
        "Temperature = (14,18,27)\n",
        "dailytemp = random.choice(Temperature)\n",
        "\n",
        "if(dailytemp >= 26):\n",
        "  print('wear light clothing')\n",
        "elif(dailytemp >= 15):\n",
        "  print('wear a light jacket')\n",
        "else:\n",
        "  print('wear warm clothing')"
      ]
    }
  ]
}